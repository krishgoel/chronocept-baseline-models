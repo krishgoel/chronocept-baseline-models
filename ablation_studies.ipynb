{
 "cells": [
  {
   "cell_type": "code",
   "execution_count": 1,
   "metadata": {},
   "outputs": [],
   "source": [
    "import torch\n",
    "from utils import DataLoader, evaluate_model\n",
    "from models import FFNNModel, BiLSTMModel\n",
    "from matplotlib import pyplot as plt"
   ]
  },
  {
   "cell_type": "code",
   "execution_count": 2,
   "metadata": {},
   "outputs": [],
   "source": [
    "import logging\n",
    "logging.basicConfig(level=logging.INFO)"
   ]
  },
  {
   "cell_type": "markdown",
   "metadata": {},
   "source": [
    "## Ablation Study: Impact of Inclusion of Temporal Axes"
   ]
  },
  {
   "cell_type": "code",
   "execution_count": 11,
   "metadata": {},
   "outputs": [
    {
     "name": "stderr",
     "output_type": "stream",
     "text": [
      "INFO:utils.dataloader:Initializing DataLoader...\n",
      "INFO:utils.dataloader:Using device: cuda\n",
      "INFO:utils.dataloader:Loading dataset for benchmark benchmark_1 with split None\n",
      "INFO:utils.dataloader:No split specified; loading all splits (train, validation, test).\n",
      "INFO:utils.dataloader:Dataset loaded successfully.\n",
      "INFO:utils.dataloader:Initializing embedding for method bert_cls...\n",
      "INFO:utils.dataloader:Initialized BERT model and tokenizer.\n",
      "INFO:utils.dataloader:Embedding resources initialized.\n"
     ]
    }
   ],
   "source": [
    "dl_without_axes = DataLoader(\n",
    "    benchmark=\"benchmark_1\",\n",
    "    split=None,\n",
    "    embedding=\"bert_cls\", \n",
    "    max_len=128,\n",
    "    include_axes=False,\n",
    "    shuffle_axes=False,  \n",
    "    normalization=\"zscore\"\n",
    ")"
   ]
  },
  {
   "cell_type": "code",
   "execution_count": null,
   "metadata": {},
   "outputs": [
    {
     "name": "stderr",
     "output_type": "stream",
     "text": [
      "INFO:utils.dataloader:Starting preprocessing of dataset(s)...\n",
      "INFO:utils.dataloader:Processing split: train with 878 samples...\n",
      "INFO:utils.dataloader:Processing a single dataset split...\n",
      "INFO:utils.dataloader:Feature vector shape without axes: torch.Size([878, 768])\n",
      "INFO:utils.dataloader:Extracting and normalizing target values...\n",
      "INFO:utils.dataloader:Normalizing target values...\n",
      "INFO:utils.dataloader:Z-score parameters: mean=[ 5.44271868e+01  1.15348462e+01 -2.48804100e-02], std=[20.1219028   3.81394874  1.39502752]\n",
      "INFO:utils.dataloader:Processing split: validation with 247 samples...\n",
      "INFO:utils.dataloader:Processing a single dataset split...\n",
      "INFO:utils.dataloader:Feature vector shape without axes: torch.Size([247, 768])\n",
      "INFO:utils.dataloader:Extracting and normalizing target values...\n",
      "INFO:utils.dataloader:Normalizing target values...\n",
      "INFO:utils.dataloader:Z-score parameters: mean=[53.97165992 11.64925101  0.09862348], std=[21.3092882   3.78886061  1.38975187]\n",
      "INFO:utils.dataloader:Processing split: test with 129 samples...\n",
      "INFO:utils.dataloader:Processing a single dataset split...\n",
      "INFO:utils.dataloader:Feature vector shape without axes: torch.Size([129, 768])\n",
      "INFO:utils.dataloader:Extracting and normalizing target values...\n",
      "INFO:utils.dataloader:Normalizing target values...\n",
      "INFO:utils.dataloader:Z-score parameters: mean=[53.87116279 11.43751938 -0.17321705], std=[20.57259339  3.42227032  1.28830229]\n",
      "INFO:utils.dataloader:Preprocessing of all splits completed.\n"
     ]
    }
   ],
   "source": [
    "data_without_axes = dl_without_axes.preprocess()\n",
    "X_train, y_train = data_without_axes[\"train\"]\n",
    "X_valid, y_valid = data_without_axes[\"validation\"]\n",
    "X_test, y_test = data_without_axes[\"test\"]"
   ]
  },
  {
   "cell_type": "code",
   "execution_count": 13,
   "metadata": {},
   "outputs": [
    {
     "name": "stdout",
     "output_type": "stream",
     "text": [
      "Device: cuda\n"
     ]
    }
   ],
   "source": [
    "device = torch.device(\"cuda\" if torch.cuda.is_available() else \"cpu\")\n",
    "print(f\"Device: {device}\")"
   ]
  },
  {
   "cell_type": "code",
   "execution_count": 14,
   "metadata": {},
   "outputs": [
    {
     "name": "stdout",
     "output_type": "stream",
     "text": [
      "Input dimension: 768\n"
     ]
    }
   ],
   "source": [
    "input_dim = X_train.shape[1]\n",
    "print(f\"Input dimension: {input_dim}\")"
   ]
  },
  {
   "cell_type": "markdown",
   "metadata": {},
   "source": [
    "### FFNN Performance Comparison"
   ]
  },
  {
   "cell_type": "code",
   "execution_count": 20,
   "metadata": {},
   "outputs": [
    {
     "name": "stderr",
     "output_type": "stream",
     "text": [
      "C:\\Users\\krish\\AppData\\Local\\Temp\\ipykernel_15972\\1266719261.py:4: FutureWarning: You are using `torch.load` with `weights_only=False` (the current default value), which uses the default pickle module implicitly. It is possible to construct malicious pickle data which will execute arbitrary code during unpickling (See https://github.com/pytorch/pytorch/blob/main/SECURITY.md#untrusted-models for more details). In a future release, the default value for `weights_only` will be flipped to `True`. This limits the functions that could be executed during unpickling. Arbitrary objects will no longer be allowed to be loaded via this mode unless they are explicitly allowlisted by the user via `torch.serialization.add_safe_globals`. We recommend you start setting `weights_only=True` for any use case where you don't have full control of the loaded file. Please open an issue on GitHub for any issues related to this experimental feature.\n",
      "  checkpoint = torch.load(\"baseline_weights/benchmark_1/ffnn.pth\")\n",
      "INFO:models.ffnn:FFNN built with input_dim=768, hidden_dim=64, dropout=0.0, weight_decay=0.0, l1=0.001\n"
     ]
    },
    {
     "name": "stdout",
     "output_type": "stream",
     "text": [
      "Best hyperparameters: {'input_dim': 6912, 'hidden_dim': 64, 'dropout': 0.0, 'weight_decay': 0.0, 'l1': 0.001}\n"
     ]
    }
   ],
   "source": [
    "ffnn_save_path = \"baseline_weights/ablation_studies/ffnn_without_axes.pth\"\n",
    "\n",
    "# Get best config for FFNN (from grid search)\n",
    "checkpoint = torch.load(\"baseline_weights/benchmark_1/ffnn.pth\")\n",
    "hyperparams = checkpoint[\"hyperparameters\"]\n",
    "print(f\"Best hyperparameters: {hyperparams}\")\n",
    "ffnn = FFNNModel(\n",
    "    input_dim,\n",
    "    hidden_dim=hyperparams.get(\"hidden_dim\"),\n",
    "    dropout=hyperparams.get(\"dropout\"),\n",
    "    weight_decay=hyperparams.get(\"weight_decay\"),\n",
    "    l1=hyperparams.get(\"l1\")\n",
    ")"
   ]
  },
  {
   "cell_type": "code",
   "execution_count": 16,
   "metadata": {},
   "outputs": [
    {
     "name": "stderr",
     "output_type": "stream",
     "text": [
      "INFO:models.ffnn:Loaded best model state based on validation loss.\n"
     ]
    }
   ],
   "source": [
    "train_losses, valid_losses = ffnn.fit(train_data=(X_train.cpu().numpy(), y_train), valid_data=(X_valid.cpu().numpy(), y_valid), lr=1e-3, epochs=50, device=device)"
   ]
  },
  {
   "cell_type": "code",
   "execution_count": 17,
   "metadata": {},
   "outputs": [],
   "source": [
    "test_preds = ffnn.evaluate(test_data=(X_test.cpu().numpy(), y_test), device=device)"
   ]
  },
  {
   "cell_type": "code",
   "execution_count": 18,
   "metadata": {},
   "outputs": [
    {
     "name": "stdout",
     "output_type": "stream",
     "text": [
      "MSE: 0.9368, MAE: 0.7531, R2: 0.0632, NLL: 1.3863, CRPS: 0.7531\n"
     ]
    }
   ],
   "source": [
    "mse, mae, r2, nll, crps = evaluate_model(y_test, test_preds)\n",
    "print(f\"MSE: {mse:.4f}, MAE: {mae:.4f}, R2: {r2:.4f}, NLL: {nll:.4f}, CRPS: {crps:.4f}\")"
   ]
  },
  {
   "cell_type": "markdown",
   "metadata": {},
   "source": [
    "### BiLSTM Performance Comparison"
   ]
  },
  {
   "cell_type": "code",
   "execution_count": 21,
   "metadata": {},
   "outputs": [
    {
     "name": "stderr",
     "output_type": "stream",
     "text": [
      "C:\\Users\\krish\\AppData\\Local\\Temp\\ipykernel_15972\\3441546625.py:4: FutureWarning: You are using `torch.load` with `weights_only=False` (the current default value), which uses the default pickle module implicitly. It is possible to construct malicious pickle data which will execute arbitrary code during unpickling (See https://github.com/pytorch/pytorch/blob/main/SECURITY.md#untrusted-models for more details). In a future release, the default value for `weights_only` will be flipped to `True`. This limits the functions that could be executed during unpickling. Arbitrary objects will no longer be allowed to be loaded via this mode unless they are explicitly allowlisted by the user via `torch.serialization.add_safe_globals`. We recommend you start setting `weights_only=True` for any use case where you don't have full control of the loaded file. Please open an issue on GitHub for any issues related to this experimental feature.\n",
      "  checkpoint = torch.load(\"baseline_weights/benchmark_1/bilstm.pth\")\n",
      "INFO:models.bilstm:BiLSTM built with input_dim=768, hidden_dim=64, bidirectional=True\n"
     ]
    },
    {
     "name": "stdout",
     "output_type": "stream",
     "text": [
      "Best hyperparameters: {'input_dim': 768, 'hidden_dim': 64, 'bidirectional': True}\n"
     ]
    }
   ],
   "source": [
    "lstm_save_path = \"baseline_weights/ablation_studies/lstm_without_axes.pth\"\n",
    "\n",
    "# Get best config for FFNN (from grid search)\n",
    "checkpoint = torch.load(\"baseline_weights/benchmark_1/bilstm.pth\")\n",
    "hyperparams = checkpoint[\"hyperparameters\"]\n",
    "print(f\"Best hyperparameters: {hyperparams}\")\n",
    "lstm = BiLSTMModel(\n",
    "    input_dim,\n",
    "    hidden_dim=hyperparams.get(\"hidden_dim\"),\n",
    "    bidirectional=hyperparams.get(\"bidirectional\"),\n",
    ")"
   ]
  },
  {
   "cell_type": "code",
   "execution_count": 22,
   "metadata": {},
   "outputs": [
    {
     "name": "stderr",
     "output_type": "stream",
     "text": [
      "INFO:models.bilstm:Loaded best BiLSTM model state based on validation loss.\n"
     ]
    }
   ],
   "source": [
    "train_losses, valid_losses = lstm.fit(train_data=(X_train.cpu().numpy(), y_train), valid_data=(X_valid.cpu().numpy(), y_valid), lr=1e-4, epochs=50, device=device)"
   ]
  },
  {
   "cell_type": "code",
   "execution_count": 23,
   "metadata": {},
   "outputs": [],
   "source": [
    "test_preds = lstm.evaluate(test_data=(X_test.cpu().numpy(), y_test), device=device)"
   ]
  },
  {
   "cell_type": "code",
   "execution_count": 24,
   "metadata": {},
   "outputs": [
    {
     "name": "stdout",
     "output_type": "stream",
     "text": [
      "MSE: 0.9625, MAE: 0.7659, R2: 0.0375, NLL: 1.3998, CRPS: 0.7659\n"
     ]
    }
   ],
   "source": [
    "mse, mae, r2, nll, crps = evaluate_model(y_test, test_preds)\n",
    "print(f\"MSE: {mse:.4f}, MAE: {mae:.4f}, R2: {r2:.4f}, NLL: {nll:.4f}, CRPS: {crps:.4f}\")"
   ]
  },
  {
   "cell_type": "markdown",
   "metadata": {},
   "source": [
    "## Ablation Study: Impact of Shuffling of Temporal Axes"
   ]
  },
  {
   "cell_type": "code",
   "execution_count": 3,
   "metadata": {},
   "outputs": [
    {
     "name": "stderr",
     "output_type": "stream",
     "text": [
      "INFO:utils.dataloader:Initializing DataLoader...\n",
      "INFO:utils.dataloader:Using device: cuda\n",
      "INFO:utils.dataloader:Loading dataset for benchmark benchmark_1 with split None\n",
      "INFO:utils.dataloader:No split specified; loading all splits (train, validation, test).\n",
      "INFO:utils.dataloader:Dataset loaded successfully.\n",
      "INFO:utils.dataloader:Initializing embedding for method bert_cls...\n",
      "INFO:utils.dataloader:Initialized BERT model and tokenizer.\n",
      "INFO:utils.dataloader:Embedding resources initialized.\n"
     ]
    }
   ],
   "source": [
    "dl_shuffled_axes = DataLoader(\n",
    "    benchmark=\"benchmark_1\",\n",
    "    split=None,\n",
    "    embedding=\"bert_cls\", \n",
    "    max_len=128,\n",
    "    include_axes=True,\n",
    "    shuffle_axes=True,  \n",
    "    normalization=\"zscore\"\n",
    ")"
   ]
  },
  {
   "cell_type": "code",
   "execution_count": 4,
   "metadata": {},
   "outputs": [
    {
     "name": "stderr",
     "output_type": "stream",
     "text": [
      "INFO:utils.dataloader:Starting preprocessing of dataset(s)...\n",
      "INFO:utils.dataloader:Processing split: train with 878 samples (shuffle_axes=True)...\n",
      "INFO:utils.dataloader:Processing a single dataset split...\n",
      "INFO:utils.dataloader:Combined feature vector shape: torch.Size([878, 6912])\n",
      "INFO:utils.dataloader:Extracting and normalizing target values...\n",
      "INFO:utils.dataloader:Normalizing target values...\n",
      "INFO:utils.dataloader:Z-score parameters: mean=[ 5.44271868e+01  1.15348462e+01 -2.48804100e-02], std=[20.1219028   3.81394874  1.39502752]\n",
      "INFO:utils.dataloader:Processing split: validation with 247 samples (shuffle_axes=False)...\n",
      "INFO:utils.dataloader:Processing a single dataset split...\n",
      "INFO:utils.dataloader:Combined feature vector shape: torch.Size([247, 6912])\n",
      "INFO:utils.dataloader:Extracting and normalizing target values...\n",
      "INFO:utils.dataloader:Normalizing target values...\n",
      "INFO:utils.dataloader:Z-score parameters: mean=[53.97165992 11.64925101  0.09862348], std=[21.3092882   3.78886061  1.38975187]\n",
      "INFO:utils.dataloader:Processing split: test with 129 samples (shuffle_axes=False)...\n",
      "INFO:utils.dataloader:Processing a single dataset split...\n",
      "INFO:utils.dataloader:Combined feature vector shape: torch.Size([129, 6912])\n",
      "INFO:utils.dataloader:Extracting and normalizing target values...\n",
      "INFO:utils.dataloader:Normalizing target values...\n",
      "INFO:utils.dataloader:Z-score parameters: mean=[53.87116279 11.43751938 -0.17321705], std=[20.57259339  3.42227032  1.28830229]\n",
      "INFO:utils.dataloader:Preprocessing of all splits completed.\n"
     ]
    }
   ],
   "source": [
    "data_shuffled_axes = dl_shuffled_axes.preprocess()\n",
    "X_train, y_train = data_shuffled_axes[\"train\"]\n",
    "X_valid, y_valid = data_shuffled_axes[\"validation\"]\n",
    "X_test, y_test = data_shuffled_axes[\"test\"]"
   ]
  },
  {
   "cell_type": "code",
   "execution_count": 5,
   "metadata": {},
   "outputs": [
    {
     "name": "stdout",
     "output_type": "stream",
     "text": [
      "Device: cuda\n"
     ]
    }
   ],
   "source": [
    "device = torch.device(\"cuda\" if torch.cuda.is_available() else \"cpu\")\n",
    "print(f\"Device: {device}\")"
   ]
  },
  {
   "cell_type": "code",
   "execution_count": 6,
   "metadata": {},
   "outputs": [
    {
     "name": "stdout",
     "output_type": "stream",
     "text": [
      "Input dimension: 6912\n"
     ]
    }
   ],
   "source": [
    "input_dim = X_train.shape[1]\n",
    "print(f\"Input dimension: {input_dim}\")"
   ]
  },
  {
   "cell_type": "markdown",
   "metadata": {},
   "source": [
    "### FFNN Performance Comparison"
   ]
  },
  {
   "cell_type": "code",
   "execution_count": 7,
   "metadata": {},
   "outputs": [
    {
     "name": "stderr",
     "output_type": "stream",
     "text": [
      "C:\\Users\\krish\\AppData\\Local\\Temp\\ipykernel_19508\\1266719261.py:4: FutureWarning: You are using `torch.load` with `weights_only=False` (the current default value), which uses the default pickle module implicitly. It is possible to construct malicious pickle data which will execute arbitrary code during unpickling (See https://github.com/pytorch/pytorch/blob/main/SECURITY.md#untrusted-models for more details). In a future release, the default value for `weights_only` will be flipped to `True`. This limits the functions that could be executed during unpickling. Arbitrary objects will no longer be allowed to be loaded via this mode unless they are explicitly allowlisted by the user via `torch.serialization.add_safe_globals`. We recommend you start setting `weights_only=True` for any use case where you don't have full control of the loaded file. Please open an issue on GitHub for any issues related to this experimental feature.\n",
      "  checkpoint = torch.load(\"baseline_weights/benchmark_1/ffnn.pth\")\n",
      "INFO:models.ffnn:FFNN built with input_dim=6912, hidden_dim=64, dropout=0.0, weight_decay=0.0, l1=0.001\n"
     ]
    },
    {
     "name": "stdout",
     "output_type": "stream",
     "text": [
      "Best hyperparameters: {'input_dim': 6912, 'hidden_dim': 64, 'dropout': 0.0, 'weight_decay': 0.0, 'l1': 0.001}\n"
     ]
    }
   ],
   "source": [
    "ffnn_save_path = \"baseline_weights/ablation_studies/ffnn_without_axes.pth\"\n",
    "\n",
    "# Get best config for FFNN (from grid search)\n",
    "checkpoint = torch.load(\"baseline_weights/benchmark_1/ffnn.pth\")\n",
    "hyperparams = checkpoint[\"hyperparameters\"]\n",
    "print(f\"Best hyperparameters: {hyperparams}\")\n",
    "ffnn = FFNNModel(\n",
    "    input_dim,\n",
    "    hidden_dim=hyperparams.get(\"hidden_dim\"),\n",
    "    dropout=hyperparams.get(\"dropout\"),\n",
    "    weight_decay=hyperparams.get(\"weight_decay\"),\n",
    "    l1=hyperparams.get(\"l1\")\n",
    ")"
   ]
  },
  {
   "cell_type": "code",
   "execution_count": 8,
   "metadata": {},
   "outputs": [
    {
     "name": "stderr",
     "output_type": "stream",
     "text": [
      "INFO:models.ffnn:Loaded best model state based on validation loss.\n"
     ]
    }
   ],
   "source": [
    "train_losses, valid_losses = ffnn.fit(train_data=(X_train.cpu().numpy(), y_train), valid_data=(X_valid.cpu().numpy(), y_valid), lr=1e-3, epochs=50, device=device)"
   ]
  },
  {
   "cell_type": "code",
   "execution_count": 9,
   "metadata": {},
   "outputs": [],
   "source": [
    "test_preds = ffnn.evaluate(test_data=(X_test.cpu().numpy(), y_test), device=device)"
   ]
  },
  {
   "cell_type": "code",
   "execution_count": 10,
   "metadata": {},
   "outputs": [
    {
     "name": "stdout",
     "output_type": "stream",
     "text": [
      "MSE: 0.9933, MAE: 0.7591, R2: 0.0067, NLL: 1.4156, CRPS: 0.7591\n"
     ]
    }
   ],
   "source": [
    "mse, mae, r2, nll, crps = evaluate_model(y_test, test_preds)\n",
    "print(f\"MSE: {mse:.4f}, MAE: {mae:.4f}, R2: {r2:.4f}, NLL: {nll:.4f}, CRPS: {crps:.4f}\")"
   ]
  },
  {
   "cell_type": "markdown",
   "metadata": {},
   "source": [
    "### BiLSTM Performance Comparison"
   ]
  },
  {
   "cell_type": "code",
   "execution_count": 11,
   "metadata": {},
   "outputs": [
    {
     "name": "stderr",
     "output_type": "stream",
     "text": [
      "C:\\Users\\krish\\AppData\\Local\\Temp\\ipykernel_19508\\3441546625.py:4: FutureWarning: You are using `torch.load` with `weights_only=False` (the current default value), which uses the default pickle module implicitly. It is possible to construct malicious pickle data which will execute arbitrary code during unpickling (See https://github.com/pytorch/pytorch/blob/main/SECURITY.md#untrusted-models for more details). In a future release, the default value for `weights_only` will be flipped to `True`. This limits the functions that could be executed during unpickling. Arbitrary objects will no longer be allowed to be loaded via this mode unless they are explicitly allowlisted by the user via `torch.serialization.add_safe_globals`. We recommend you start setting `weights_only=True` for any use case where you don't have full control of the loaded file. Please open an issue on GitHub for any issues related to this experimental feature.\n",
      "  checkpoint = torch.load(\"baseline_weights/benchmark_1/bilstm.pth\")\n",
      "INFO:models.bilstm:BiLSTM built with input_dim=6912, hidden_dim=64, bidirectional=True\n"
     ]
    },
    {
     "name": "stdout",
     "output_type": "stream",
     "text": [
      "Best hyperparameters: {'input_dim': 768, 'hidden_dim': 64, 'bidirectional': True}\n"
     ]
    }
   ],
   "source": [
    "lstm_save_path = \"baseline_weights/ablation_studies/lstm_without_axes.pth\"\n",
    "\n",
    "# Get best config for FFNN (from grid search)\n",
    "checkpoint = torch.load(\"baseline_weights/benchmark_1/bilstm.pth\")\n",
    "hyperparams = checkpoint[\"hyperparameters\"]\n",
    "print(f\"Best hyperparameters: {hyperparams}\")\n",
    "lstm = BiLSTMModel(\n",
    "    input_dim,\n",
    "    hidden_dim=hyperparams.get(\"hidden_dim\"),\n",
    "    bidirectional=hyperparams.get(\"bidirectional\"),\n",
    ")"
   ]
  },
  {
   "cell_type": "code",
   "execution_count": 12,
   "metadata": {},
   "outputs": [
    {
     "name": "stderr",
     "output_type": "stream",
     "text": [
      "INFO:models.bilstm:Loaded best BiLSTM model state based on validation loss.\n"
     ]
    }
   ],
   "source": [
    "train_losses, valid_losses = lstm.fit(train_data=(X_train.cpu().numpy(), y_train), valid_data=(X_valid.cpu().numpy(), y_valid), lr=1e-4, epochs=50, device=device)"
   ]
  },
  {
   "cell_type": "code",
   "execution_count": 13,
   "metadata": {},
   "outputs": [],
   "source": [
    "test_preds = lstm.evaluate(test_data=(X_test.cpu().numpy(), y_test), device=device)"
   ]
  },
  {
   "cell_type": "code",
   "execution_count": 14,
   "metadata": {},
   "outputs": [
    {
     "name": "stdout",
     "output_type": "stream",
     "text": [
      "MSE: 1.0107, MAE: 0.7984, R2: -0.0107, NLL: 1.4243, CRPS: 0.7984\n"
     ]
    }
   ],
   "source": [
    "mse, mae, r2, nll, crps = evaluate_model(y_test, test_preds)\n",
    "print(f\"MSE: {mse:.4f}, MAE: {mae:.4f}, R2: {r2:.4f}, NLL: {nll:.4f}, CRPS: {crps:.4f}\")"
   ]
  }
 ],
 "metadata": {
  "kernelspec": {
   "display_name": "venv",
   "language": "python",
   "name": "python3"
  },
  "language_info": {
   "codemirror_mode": {
    "name": "ipython",
    "version": 3
   },
   "file_extension": ".py",
   "mimetype": "text/x-python",
   "name": "python",
   "nbconvert_exporter": "python",
   "pygments_lexer": "ipython3",
   "version": "3.10.14"
  }
 },
 "nbformat": 4,
 "nbformat_minor": 2
}
